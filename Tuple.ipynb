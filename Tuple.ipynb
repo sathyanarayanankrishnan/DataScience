{
  "nbformat": 4,
  "nbformat_minor": 0,
  "metadata": {
    "colab": {
      "name": "Tuple.ipynb",
      "provenance": [],
      "collapsed_sections": [],
      "authorship_tag": "ABX9TyNLwosr3sr/FOptC8xNr/Ty",
      "include_colab_link": true
    },
    "kernelspec": {
      "name": "python3",
      "display_name": "Python 3"
    },
    "language_info": {
      "name": "python"
    }
  },
  "cells": [
    {
      "cell_type": "markdown",
      "metadata": {
        "id": "view-in-github",
        "colab_type": "text"
      },
      "source": [
        "<a href=\"https://colab.research.google.com/github/sathyanarayanankrishnan/DataScience/blob/main/Tuple.ipynb\" target=\"_parent\"><img src=\"https://colab.research.google.com/assets/colab-badge.svg\" alt=\"Open In Colab\"/></a>"
      ]
    },
    {
      "cell_type": "markdown",
      "source": [
        "## Ways to Create Tuple"
      ],
      "metadata": {
        "id": "T5-1gBaAPqbt"
      }
    },
    {
      "cell_type": "code",
      "source": [
        "my_tuple = tuple()\n",
        "# Returns the type of Tuple\n",
        "type(my_tuple)\n",
        "my_tuple_1 = tuple('')\n",
        "print(my_tuple)\n",
        "print(my_tuple_1)\n",
        "\n"
      ],
      "metadata": {
        "colab": {
          "base_uri": "https://localhost:8080/"
        },
        "id": "1w1fqnkGRnU9",
        "outputId": "0d556ea9-a4ba-4bbf-f431-d97a297a8e9e"
      },
      "execution_count": 2,
      "outputs": [
        {
          "output_type": "stream",
          "name": "stdout",
          "text": [
            "()\n",
            "()\n"
          ]
        }
      ]
    },
    {
      "cell_type": "markdown",
      "source": [
        "## tuple can contain Multiple Data Types integer, string etc.,"
      ],
      "metadata": {
        "id": "GKEkt6VdmY8F"
      }
    },
    {
      "cell_type": "code",
      "source": [
        "tuple_1 = (1, 3, \"string\", 4.3) #  accepts duplicates and different datatypes\n",
        "print(tuple_1)"
      ],
      "metadata": {
        "colab": {
          "base_uri": "https://localhost:8080/"
        },
        "id": "IovsBFRiR5Ns",
        "outputId": "ce5abd4b-783f-4d5c-83d6-e44d9c7f90b1"
      },
      "execution_count": 3,
      "outputs": [
        {
          "output_type": "stream",
          "name": "stdout",
          "text": [
            "(1, 3, 'string', 4.3)\n"
          ]
        }
      ]
    },
    {
      "cell_type": "markdown",
      "source": [
        "## Iteration in tuple"
      ],
      "metadata": {
        "id": "NouY0If-mjEO"
      }
    },
    {
      "cell_type": "code",
      "source": [
        "thistuple = (\"apple\", \"banana\", \"cherry\")\n",
        "for x in thistuple:\n",
        "  print(x)"
      ],
      "metadata": {
        "colab": {
          "base_uri": "https://localhost:8080/"
        },
        "id": "5ZOduh1kmwBu",
        "outputId": "b0ef8d8b-facd-4290-89b9-7fbaa64b3699"
      },
      "execution_count": 12,
      "outputs": [
        {
          "output_type": "stream",
          "name": "stdout",
          "text": [
            "apple\n",
            "banana\n",
            "cherry\n"
          ]
        }
      ]
    },
    {
      "cell_type": "markdown",
      "source": [
        "## Map function with tuple"
      ],
      "metadata": {
        "id": "-_Uqd0AbogYT"
      }
    },
    {
      "cell_type": "code",
      "source": [
        "def change_upper_case(s):\n",
        " return str(s).upper()\n",
        "char = (5, 'n', 'ghk') \n",
        "result = map(change_upper_case, char)\n",
        "print(tuple(result))\n",
        " "
      ],
      "metadata": {
        "colab": {
          "base_uri": "https://localhost:8080/"
        },
        "id": "s-xJFW7QovMo",
        "outputId": "eb8df725-155c-4765-e62f-2ec4da23d52f"
      },
      "execution_count": 36,
      "outputs": [
        {
          "output_type": "stream",
          "name": "stdout",
          "text": [
            "('5', 'N', 'GHK')\n"
          ]
        }
      ]
    },
    {
      "cell_type": "markdown",
      "source": [
        "## Lambda with tuple"
      ],
      "metadata": {
        "id": "P2PjQhz6t7nk"
      }
    },
    {
      "cell_type": "code",
      "source": [
        "my_tuple = (5, 'n', 'ghk') \n",
        "result = map(lambda i:str(i).upper(), my_tuple)\n",
        "print(tuple(result))"
      ],
      "metadata": {
        "colab": {
          "base_uri": "https://localhost:8080/"
        },
        "id": "1S0JU8tTsQ9d",
        "outputId": "032a0f26-0b88-4d24-cebb-08c72bacc779"
      },
      "execution_count": 41,
      "outputs": [
        {
          "output_type": "stream",
          "name": "stdout",
          "text": [
            "('5', 'N', 'GHK')\n"
          ]
        }
      ]
    },
    {
      "cell_type": "markdown",
      "source": [
        "## Comprehension in tuple"
      ],
      "metadata": {
        "id": "0--5EiN6w0SU"
      }
    },
    {
      "cell_type": "code",
      "source": [
        "tuple1 = (1,2,56,5,8,98,7)\n",
        "tuple2=tuple(i for i in tuple1 if i%2==0)\n",
        "print(tuple2)"
      ],
      "metadata": {
        "colab": {
          "base_uri": "https://localhost:8080/"
        },
        "id": "gTFtKmYPw98d",
        "outputId": "f5adb82b-9a95-494c-f150-6d067c237bac"
      },
      "execution_count": 45,
      "outputs": [
        {
          "output_type": "stream",
          "name": "stdout",
          "text": [
            "(2, 56, 8, 98)\n"
          ]
        }
      ]
    },
    {
      "cell_type": "markdown",
      "source": [
        "## Concatenation in tuple"
      ],
      "metadata": {
        "id": "ThUw3QNKxmgB"
      }
    },
    {
      "cell_type": "code",
      "source": [
        "my_tuple_1 = (11, 14, 0, 78, 33, 11)\n",
        "my_tuple_2 = (10, 78, 0, 56, 8, 34)\n",
        "\n",
        "print(\"The first tuple is : \")\n",
        "print(my_tuple_1)\n",
        "print(\"The second tuple is : \")\n",
        "print(my_tuple_2)\n",
        "\n",
        "my_result = my_tuple_1 + my_tuple_2\n",
        "\n",
        "print(\"The tuple after concatenation is : \" )\n",
        "print(my_result)"
      ],
      "metadata": {
        "colab": {
          "base_uri": "https://localhost:8080/"
        },
        "id": "KfMbvDKFxrMZ",
        "outputId": "1c2bcf43-cb1d-4041-f880-a6264c73f162"
      },
      "execution_count": 46,
      "outputs": [
        {
          "output_type": "stream",
          "name": "stdout",
          "text": [
            "The first tuple is : \n",
            "(11, 14, 0, 78, 33, 11)\n",
            "The second tuple is : \n",
            "(10, 78, 0, 56, 8, 34)\n",
            "The tuple after concatenation is : \n",
            "(11, 14, 0, 78, 33, 11, 10, 78, 0, 56, 8, 34)\n"
          ]
        }
      ]
    },
    {
      "cell_type": "markdown",
      "source": [
        "## Duplication in tuple "
      ],
      "metadata": {
        "id": "SmcIbXWM3DPj"
      }
    },
    {
      "cell_type": "code",
      "source": [
        "numbers = (0, 1, 2) * 3\n",
        "print ( 'Data type :: ', type(numbers),' Tuple Value ', numbers)"
      ],
      "metadata": {
        "colab": {
          "base_uri": "https://localhost:8080/"
        },
        "id": "nyzgYOYE3FKM",
        "outputId": "bdf8e3cf-4177-4621-a30d-5f671e4b7841"
      },
      "execution_count": 51,
      "outputs": [
        {
          "output_type": "stream",
          "name": "stdout",
          "text": [
            "Data type ::  <class 'tuple'>  Tuple Value  (0, 1, 2, 0, 1, 2, 0, 1, 2)\n"
          ]
        }
      ]
    },
    {
      "cell_type": "markdown",
      "source": [
        "## Convert tuple to other datatypes"
      ],
      "metadata": {
        "id": "lVLpZWxq4IKz"
      }
    },
    {
      "cell_type": "code",
      "source": [
        "my_tuple_1 = (11, 14, 0, 78, 33, 11)\n",
        "print('Object is ', my_tuple_1,'  Type of the Object is ', type(my_tuple_1))\n",
        "mylist = list(my_tuple_1)\n",
        "print('Object is ', mylist,'  Type of the Object is ', type(mylist))\n",
        "myset = set(my_tuple_1)\n",
        "print('Object is ', myset,'  Type of the Object is ', type(myset))\n",
        "# initializing set\n",
        "my_tuple_1 = (11, 14, 0, 78, 33, 11)\n",
        "# printing initialized set\n",
        "print (\"initial tuple\", my_tuple_1)\n",
        "print (type(my_tuple_1))\n",
        "# Converting tuple to dict\n",
        "res = {element:element*element for element in my_tuple_1}\n",
        "# printing final result and its type\n",
        "print (\"final Dictonary\", res)\n",
        "print (type(res))\n",
        "\n",
        "my_string_tuple =('This ','is',' Rolex')\n",
        "my_team = str(my_string_tuple)\n",
        "print (' Data type == ',type(my_team))\n",
        "my_team_name=''.join(my_team)\n",
        "print (my_team_name)\n"
      ],
      "metadata": {
        "colab": {
          "base_uri": "https://localhost:8080/"
        },
        "id": "eIaDIHAC4IwC",
        "outputId": "33d83cfe-832d-4495-b30c-2add94e0263a"
      },
      "execution_count": 70,
      "outputs": [
        {
          "output_type": "stream",
          "name": "stdout",
          "text": [
            "Object is  (11, 14, 0, 78, 33, 11)   Type of the Object is  <class 'tuple'>\n",
            "Object is  [11, 14, 0, 78, 33, 11]   Type of the Object is  <class 'list'>\n",
            "Object is  {0, 33, 11, 78, 14}   Type of the Object is  <class 'set'>\n",
            "initial tuple (11, 14, 0, 78, 33, 11)\n",
            "<class 'tuple'>\n",
            "final Dictonary {11: 121, 14: 196, 0: 0, 78: 6084, 33: 1089}\n",
            "<class 'dict'>\n",
            " Data type ==  <class 'str'>\n",
            "('This ', 'is', ' Rolex')\n"
          ]
        }
      ]
    },
    {
      "cell_type": "markdown",
      "source": [
        "## Zip Function in Tuples "
      ],
      "metadata": {
        "id": "y5aXqhyz9VYi"
      }
    },
    {
      "cell_type": "code",
      "source": [
        "my_num_tuple = (1,2,3)\n",
        "my_alpha_tuple = ('a','b','c')\n",
        "print(my_num_tuple,'\\t Total Elements in Set my_num_tuple = ',len(my_num_tuple))\n",
        "print(my_alpha_tuple,'\\t Total Elements in Set my_num_tuple = ',len(my_alpha_tuple))\n",
        "zip(my_num_tuple,my_alpha_tuple)\n",
        "print(tuple(zip(my_num_tuple,my_alpha_tuple)))"
      ],
      "metadata": {
        "colab": {
          "base_uri": "https://localhost:8080/"
        },
        "id": "WTCsbUaV9Yvy",
        "outputId": "d1ef780a-d706-4b16-d023-2d424c80dd08"
      },
      "execution_count": 73,
      "outputs": [
        {
          "output_type": "stream",
          "name": "stdout",
          "text": [
            "(1, 2, 3) \t Total Elements in Set my_num_tuple =  3\n",
            "('a', 'b', 'c') \t Total Elements in Set my_num_tuple =  3\n",
            "((1, 'a'), (2, 'b'), (3, 'c'))\n"
          ]
        }
      ]
    },
    {
      "cell_type": "markdown",
      "source": [
        "## Happy Learning ! "
      ],
      "metadata": {
        "id": "ZtkKxiwm_Y-_"
      }
    }
  ]
}