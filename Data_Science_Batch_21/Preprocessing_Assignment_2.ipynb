{
 "cells": [
  {
   "cell_type": "code",
   "execution_count": 1,
   "id": "e970cb14",
   "metadata": {},
   "outputs": [],
   "source": [
    "#Input Dataset : \n",
    "# https://raw.githubusercontent.com/sathyanarayanankrishnan/DataScience/main/Data_Science_Batch_21/student_assignment.csv"
   ]
  },
  {
   "cell_type": "code",
   "execution_count": 28,
   "id": "ff0c317f",
   "metadata": {},
   "outputs": [],
   "source": [
    "import pandas as pd\n",
    "import numpy as np\n",
    "import seaborn as sns\n",
    "import matplotlib.pyplot as plt"
   ]
  },
  {
   "cell_type": "code",
   "execution_count": 29,
   "id": "9a35ea89",
   "metadata": {},
   "outputs": [],
   "source": [
    "data=pd.read_csv(\"https://raw.githubusercontent.com/sathyanarayanankrishnan/DataScience/main/Data_Science_Batch_21/student_assignment.csv\")"
   ]
  },
  {
   "cell_type": "code",
   "execution_count": 30,
   "id": "1aee21f5",
   "metadata": {},
   "outputs": [
    {
     "data": {
      "text/html": [
       "<div>\n",
       "<style scoped>\n",
       "    .dataframe tbody tr th:only-of-type {\n",
       "        vertical-align: middle;\n",
       "    }\n",
       "\n",
       "    .dataframe tbody tr th {\n",
       "        vertical-align: top;\n",
       "    }\n",
       "\n",
       "    .dataframe thead th {\n",
       "        text-align: right;\n",
       "    }\n",
       "</style>\n",
       "<table border=\"1\" class=\"dataframe\">\n",
       "  <thead>\n",
       "    <tr style=\"text-align: right;\">\n",
       "      <th></th>\n",
       "      <th>Age</th>\n",
       "      <th>Income</th>\n",
       "      <th>Is Student</th>\n",
       "      <th>Num Children</th>\n",
       "      <th>Temperature</th>\n",
       "      <th>Rating</th>\n",
       "    </tr>\n",
       "  </thead>\n",
       "  <tbody>\n",
       "    <tr>\n",
       "      <th>0</th>\n",
       "      <td>43.0</td>\n",
       "      <td>45893.41</td>\n",
       "      <td>True</td>\n",
       "      <td>0.0</td>\n",
       "      <td>38.2</td>\n",
       "      <td>2.6</td>\n",
       "    </tr>\n",
       "    <tr>\n",
       "      <th>1</th>\n",
       "      <td>56.0</td>\n",
       "      <td>69663.07</td>\n",
       "      <td>True</td>\n",
       "      <td>1.0</td>\n",
       "      <td>38.7</td>\n",
       "      <td>3.2</td>\n",
       "    </tr>\n",
       "    <tr>\n",
       "      <th>2</th>\n",
       "      <td>NaN</td>\n",
       "      <td>45124.06</td>\n",
       "      <td>False</td>\n",
       "      <td>5.0</td>\n",
       "      <td>36.9</td>\n",
       "      <td>3.9</td>\n",
       "    </tr>\n",
       "    <tr>\n",
       "      <th>3</th>\n",
       "      <td>37.0</td>\n",
       "      <td>76724.60</td>\n",
       "      <td>False</td>\n",
       "      <td>2.0</td>\n",
       "      <td>41.6</td>\n",
       "      <td>2.5</td>\n",
       "    </tr>\n",
       "    <tr>\n",
       "      <th>4</th>\n",
       "      <td>53.0</td>\n",
       "      <td>58343.03</td>\n",
       "      <td>False</td>\n",
       "      <td>1.0</td>\n",
       "      <td>36.5</td>\n",
       "      <td>3.3</td>\n",
       "    </tr>\n",
       "    <tr>\n",
       "      <th>...</th>\n",
       "      <td>...</td>\n",
       "      <td>...</td>\n",
       "      <td>...</td>\n",
       "      <td>...</td>\n",
       "      <td>...</td>\n",
       "      <td>...</td>\n",
       "    </tr>\n",
       "    <tr>\n",
       "      <th>99</th>\n",
       "      <td>42.0</td>\n",
       "      <td>46673.04</td>\n",
       "      <td>False</td>\n",
       "      <td>5.0</td>\n",
       "      <td>38.8</td>\n",
       "      <td>10.9</td>\n",
       "    </tr>\n",
       "    <tr>\n",
       "      <th>100</th>\n",
       "      <td>35.0</td>\n",
       "      <td>27089.59</td>\n",
       "      <td>True</td>\n",
       "      <td>5.0</td>\n",
       "      <td>35.3</td>\n",
       "      <td>1.6</td>\n",
       "    </tr>\n",
       "    <tr>\n",
       "      <th>101</th>\n",
       "      <td>61.0</td>\n",
       "      <td>83082.63</td>\n",
       "      <td>True</td>\n",
       "      <td>4.0</td>\n",
       "      <td>35.6</td>\n",
       "      <td>3.7</td>\n",
       "    </tr>\n",
       "    <tr>\n",
       "      <th>102</th>\n",
       "      <td>39.0</td>\n",
       "      <td>61868.49</td>\n",
       "      <td>True</td>\n",
       "      <td>5.0</td>\n",
       "      <td>37.1</td>\n",
       "      <td>3.8</td>\n",
       "    </tr>\n",
       "    <tr>\n",
       "      <th>103</th>\n",
       "      <td>47.0</td>\n",
       "      <td>59526.59</td>\n",
       "      <td>False</td>\n",
       "      <td>3.0</td>\n",
       "      <td>36.7</td>\n",
       "      <td>3.2</td>\n",
       "    </tr>\n",
       "  </tbody>\n",
       "</table>\n",
       "<p>104 rows × 6 columns</p>\n",
       "</div>"
      ],
      "text/plain": [
       "      Age    Income Is Student  Num Children  Temperature  Rating\n",
       "0    43.0  45893.41       True           0.0         38.2     2.6\n",
       "1    56.0  69663.07       True           1.0         38.7     3.2\n",
       "2     NaN  45124.06      False           5.0         36.9     3.9\n",
       "3    37.0  76724.60      False           2.0         41.6     2.5\n",
       "4    53.0  58343.03      False           1.0         36.5     3.3\n",
       "..    ...       ...        ...           ...          ...     ...\n",
       "99   42.0  46673.04      False           5.0         38.8    10.9\n",
       "100  35.0  27089.59       True           5.0         35.3     1.6\n",
       "101  61.0  83082.63       True           4.0         35.6     3.7\n",
       "102  39.0  61868.49       True           5.0         37.1     3.8\n",
       "103  47.0  59526.59      False           3.0         36.7     3.2\n",
       "\n",
       "[104 rows x 6 columns]"
      ]
     },
     "execution_count": 30,
     "metadata": {},
     "output_type": "execute_result"
    }
   ],
   "source": [
    "data"
   ]
  },
  {
   "cell_type": "code",
   "execution_count": 31,
   "id": "07594055",
   "metadata": {},
   "outputs": [
    {
     "data": {
      "text/html": [
       "<div>\n",
       "<style scoped>\n",
       "    .dataframe tbody tr th:only-of-type {\n",
       "        vertical-align: middle;\n",
       "    }\n",
       "\n",
       "    .dataframe tbody tr th {\n",
       "        vertical-align: top;\n",
       "    }\n",
       "\n",
       "    .dataframe thead th {\n",
       "        text-align: right;\n",
       "    }\n",
       "</style>\n",
       "<table border=\"1\" class=\"dataframe\">\n",
       "  <thead>\n",
       "    <tr style=\"text-align: right;\">\n",
       "      <th></th>\n",
       "      <th>Age</th>\n",
       "      <th>Income</th>\n",
       "      <th>Num Children</th>\n",
       "      <th>Temperature</th>\n",
       "      <th>Rating</th>\n",
       "    </tr>\n",
       "  </thead>\n",
       "  <tbody>\n",
       "    <tr>\n",
       "      <th>count</th>\n",
       "      <td>103.000000</td>\n",
       "      <td>104.000000</td>\n",
       "      <td>101.000000</td>\n",
       "      <td>104.000000</td>\n",
       "      <td>104.000000</td>\n",
       "    </tr>\n",
       "    <tr>\n",
       "      <th>mean</th>\n",
       "      <td>52.932039</td>\n",
       "      <td>58456.756442</td>\n",
       "      <td>3.059406</td>\n",
       "      <td>38.399038</td>\n",
       "      <td>3.295192</td>\n",
       "    </tr>\n",
       "    <tr>\n",
       "      <th>std</th>\n",
       "      <td>66.249567</td>\n",
       "      <td>22150.934058</td>\n",
       "      <td>4.046781</td>\n",
       "      <td>2.083010</td>\n",
       "      <td>1.448426</td>\n",
       "    </tr>\n",
       "    <tr>\n",
       "      <th>min</th>\n",
       "      <td>18.000000</td>\n",
       "      <td>20955.370000</td>\n",
       "      <td>0.000000</td>\n",
       "      <td>35.200000</td>\n",
       "      <td>-3.200000</td>\n",
       "    </tr>\n",
       "    <tr>\n",
       "      <th>25%</th>\n",
       "      <td>31.500000</td>\n",
       "      <td>40065.965000</td>\n",
       "      <td>2.000000</td>\n",
       "      <td>36.700000</td>\n",
       "      <td>2.600000</td>\n",
       "    </tr>\n",
       "    <tr>\n",
       "      <th>50%</th>\n",
       "      <td>42.000000</td>\n",
       "      <td>58014.560000</td>\n",
       "      <td>3.000000</td>\n",
       "      <td>38.400000</td>\n",
       "      <td>3.400000</td>\n",
       "    </tr>\n",
       "    <tr>\n",
       "      <th>75%</th>\n",
       "      <td>53.500000</td>\n",
       "      <td>74489.015000</td>\n",
       "      <td>4.000000</td>\n",
       "      <td>39.925000</td>\n",
       "      <td>4.100000</td>\n",
       "    </tr>\n",
       "    <tr>\n",
       "      <th>max</th>\n",
       "      <td>511.000000</td>\n",
       "      <td>99072.180000</td>\n",
       "      <td>40.000000</td>\n",
       "      <td>41.900000</td>\n",
       "      <td>10.900000</td>\n",
       "    </tr>\n",
       "  </tbody>\n",
       "</table>\n",
       "</div>"
      ],
      "text/plain": [
       "              Age        Income  Num Children  Temperature      Rating\n",
       "count  103.000000    104.000000    101.000000   104.000000  104.000000\n",
       "mean    52.932039  58456.756442      3.059406    38.399038    3.295192\n",
       "std     66.249567  22150.934058      4.046781     2.083010    1.448426\n",
       "min     18.000000  20955.370000      0.000000    35.200000   -3.200000\n",
       "25%     31.500000  40065.965000      2.000000    36.700000    2.600000\n",
       "50%     42.000000  58014.560000      3.000000    38.400000    3.400000\n",
       "75%     53.500000  74489.015000      4.000000    39.925000    4.100000\n",
       "max    511.000000  99072.180000     40.000000    41.900000   10.900000"
      ]
     },
     "execution_count": 31,
     "metadata": {},
     "output_type": "execute_result"
    }
   ],
   "source": [
    "data.describe()"
   ]
  },
  {
   "cell_type": "code",
   "execution_count": 32,
   "id": "b46bdb82",
   "metadata": {},
   "outputs": [
    {
     "name": "stdout",
     "output_type": "stream",
     "text": [
      "<class 'pandas.core.frame.DataFrame'>\n",
      "RangeIndex: 104 entries, 0 to 103\n",
      "Data columns (total 6 columns):\n",
      " #   Column        Non-Null Count  Dtype  \n",
      "---  ------        --------------  -----  \n",
      " 0   Age           103 non-null    float64\n",
      " 1   Income        104 non-null    float64\n",
      " 2   Is Student    104 non-null    object \n",
      " 3   Num Children  101 non-null    float64\n",
      " 4   Temperature   104 non-null    float64\n",
      " 5   Rating        104 non-null    float64\n",
      "dtypes: float64(5), object(1)\n",
      "memory usage: 5.0+ KB\n"
     ]
    }
   ],
   "source": [
    "data.info()"
   ]
  },
  {
   "cell_type": "code",
   "execution_count": 33,
   "id": "e5d178ed",
   "metadata": {},
   "outputs": [
    {
     "data": {
      "text/plain": [
       "3"
      ]
     },
     "execution_count": 33,
     "metadata": {},
     "output_type": "execute_result"
    }
   ],
   "source": [
    "data.duplicated().sum()"
   ]
  },
  {
   "cell_type": "code",
   "execution_count": 34,
   "id": "fd12efd2",
   "metadata": {},
   "outputs": [],
   "source": [
    "data.drop_duplicates(keep=False, inplace=True)"
   ]
  },
  {
   "cell_type": "code",
   "execution_count": 35,
   "id": "10cf846c",
   "metadata": {},
   "outputs": [
    {
     "data": {
      "text/plain": [
       "(98, 6)"
      ]
     },
     "execution_count": 35,
     "metadata": {},
     "output_type": "execute_result"
    }
   ],
   "source": [
    "data.shape"
   ]
  },
  {
   "cell_type": "code",
   "execution_count": 36,
   "id": "93aa0004",
   "metadata": {},
   "outputs": [
    {
     "data": {
      "text/plain": [
       "Age             1\n",
       "Income          0\n",
       "Is Student      0\n",
       "Num Children    3\n",
       "Temperature     0\n",
       "Rating          0\n",
       "dtype: int64"
      ]
     },
     "execution_count": 36,
     "metadata": {},
     "output_type": "execute_result"
    }
   ],
   "source": [
    "data.isna().sum()"
   ]
  },
  {
   "cell_type": "code",
   "execution_count": 37,
   "id": "a0cdb06f",
   "metadata": {},
   "outputs": [
    {
     "data": {
      "text/plain": [
       "53.71134020618557"
      ]
     },
     "execution_count": 37,
     "metadata": {},
     "output_type": "execute_result"
    }
   ],
   "source": [
    "data['Age'].mean()"
   ]
  },
  {
   "cell_type": "code",
   "execution_count": 42,
   "id": "0dbc8f3c",
   "metadata": {},
   "outputs": [
    {
     "data": {
      "text/plain": [
       "42.0"
      ]
     },
     "execution_count": 42,
     "metadata": {},
     "output_type": "execute_result"
    }
   ],
   "source": [
    "data['Age'].median()"
   ]
  },
  {
   "cell_type": "code",
   "execution_count": 41,
   "id": "88076b71",
   "metadata": {},
   "outputs": [
    {
     "data": {
      "text/plain": [
       "0    31.0\n",
       "Name: Age, dtype: float64"
      ]
     },
     "execution_count": 41,
     "metadata": {},
     "output_type": "execute_result"
    }
   ],
   "source": [
    "data['Age'].mode(0)"
   ]
  },
  {
   "cell_type": "code",
   "execution_count": 43,
   "id": "bf50b535",
   "metadata": {},
   "outputs": [],
   "source": [
    "data['Age'].fillna(data['Age'].mode().values[0],inplace=True)"
   ]
  },
  {
   "cell_type": "code",
   "execution_count": 15,
   "id": "91a21d90",
   "metadata": {},
   "outputs": [
    {
     "data": {
      "text/plain": [
       "2.9789473684210526"
      ]
     },
     "execution_count": 15,
     "metadata": {},
     "output_type": "execute_result"
    }
   ],
   "source": [
    "data['Num Children'].mean()"
   ]
  },
  {
   "cell_type": "code",
   "execution_count": 16,
   "id": "f0e177bf",
   "metadata": {},
   "outputs": [
    {
     "data": {
      "text/plain": [
       "3.0"
      ]
     },
     "execution_count": 16,
     "metadata": {},
     "output_type": "execute_result"
    }
   ],
   "source": [
    "data['Num Children'].median()"
   ]
  },
  {
   "cell_type": "code",
   "execution_count": 17,
   "id": "37b9e7e8",
   "metadata": {},
   "outputs": [
    {
     "data": {
      "text/plain": [
       "0    4.0\n",
       "Name: Num Children, dtype: float64"
      ]
     },
     "execution_count": 17,
     "metadata": {},
     "output_type": "execute_result"
    }
   ],
   "source": [
    "data['Num Children'].mode(0)"
   ]
  },
  {
   "cell_type": "code",
   "execution_count": 44,
   "id": "cffb62ce",
   "metadata": {},
   "outputs": [
    {
     "data": {
      "text/plain": [
       "Age             0\n",
       "Income          0\n",
       "Is Student      0\n",
       "Num Children    3\n",
       "Temperature     0\n",
       "Rating          0\n",
       "dtype: int64"
      ]
     },
     "execution_count": 44,
     "metadata": {},
     "output_type": "execute_result"
    }
   ],
   "source": [
    "data.isna().sum()"
   ]
  },
  {
   "cell_type": "code",
   "execution_count": 45,
   "id": "e038b812",
   "metadata": {},
   "outputs": [],
   "source": [
    "data['Num Children'].fillna(data['Num Children'].median(),inplace=True)"
   ]
  },
  {
   "cell_type": "code",
   "execution_count": 46,
   "id": "91f926bd",
   "metadata": {},
   "outputs": [
    {
     "data": {
      "text/plain": [
       "Age             0\n",
       "Income          0\n",
       "Is Student      0\n",
       "Num Children    0\n",
       "Temperature     0\n",
       "Rating          0\n",
       "dtype: int64"
      ]
     },
     "execution_count": 46,
     "metadata": {},
     "output_type": "execute_result"
    }
   ],
   "source": [
    "data.isna().sum()"
   ]
  },
  {
   "cell_type": "code",
   "execution_count": 57,
   "id": "2f7f3dc5",
   "metadata": {},
   "outputs": [],
   "source": [
    "# Duplicates and Na values are handled"
   ]
  },
  {
   "cell_type": "code",
   "execution_count": 58,
   "id": "336e3b9b",
   "metadata": {},
   "outputs": [
    {
     "data": {
      "text/html": [
       "<div>\n",
       "<style scoped>\n",
       "    .dataframe tbody tr th:only-of-type {\n",
       "        vertical-align: middle;\n",
       "    }\n",
       "\n",
       "    .dataframe tbody tr th {\n",
       "        vertical-align: top;\n",
       "    }\n",
       "\n",
       "    .dataframe thead th {\n",
       "        text-align: right;\n",
       "    }\n",
       "</style>\n",
       "<table border=\"1\" class=\"dataframe\">\n",
       "  <thead>\n",
       "    <tr style=\"text-align: right;\">\n",
       "      <th></th>\n",
       "      <th>Age</th>\n",
       "      <th>Income</th>\n",
       "      <th>Is Student</th>\n",
       "      <th>Num Children</th>\n",
       "      <th>Temperature</th>\n",
       "      <th>Rating</th>\n",
       "    </tr>\n",
       "  </thead>\n",
       "  <tbody>\n",
       "    <tr>\n",
       "      <th>0</th>\n",
       "      <td>43.0</td>\n",
       "      <td>45893.41</td>\n",
       "      <td>True</td>\n",
       "      <td>0.0</td>\n",
       "      <td>38.2</td>\n",
       "      <td>2.6</td>\n",
       "    </tr>\n",
       "    <tr>\n",
       "      <th>1</th>\n",
       "      <td>56.0</td>\n",
       "      <td>69663.07</td>\n",
       "      <td>True</td>\n",
       "      <td>1.0</td>\n",
       "      <td>38.7</td>\n",
       "      <td>3.2</td>\n",
       "    </tr>\n",
       "    <tr>\n",
       "      <th>2</th>\n",
       "      <td>31.0</td>\n",
       "      <td>45124.06</td>\n",
       "      <td>False</td>\n",
       "      <td>5.0</td>\n",
       "      <td>36.9</td>\n",
       "      <td>3.9</td>\n",
       "    </tr>\n",
       "    <tr>\n",
       "      <th>3</th>\n",
       "      <td>37.0</td>\n",
       "      <td>76724.60</td>\n",
       "      <td>False</td>\n",
       "      <td>2.0</td>\n",
       "      <td>41.6</td>\n",
       "      <td>2.5</td>\n",
       "    </tr>\n",
       "    <tr>\n",
       "      <th>4</th>\n",
       "      <td>53.0</td>\n",
       "      <td>58343.03</td>\n",
       "      <td>False</td>\n",
       "      <td>1.0</td>\n",
       "      <td>36.5</td>\n",
       "      <td>3.3</td>\n",
       "    </tr>\n",
       "  </tbody>\n",
       "</table>\n",
       "</div>"
      ],
      "text/plain": [
       "    Age    Income Is Student  Num Children  Temperature  Rating\n",
       "0  43.0  45893.41       True           0.0         38.2     2.6\n",
       "1  56.0  69663.07       True           1.0         38.7     3.2\n",
       "2  31.0  45124.06      False           5.0         36.9     3.9\n",
       "3  37.0  76724.60      False           2.0         41.6     2.5\n",
       "4  53.0  58343.03      False           1.0         36.5     3.3"
      ]
     },
     "execution_count": 58,
     "metadata": {},
     "output_type": "execute_result"
    }
   ],
   "source": [
    "data.head()"
   ]
  },
  {
   "cell_type": "code",
   "execution_count": 59,
   "id": "f05db37b",
   "metadata": {},
   "outputs": [
    {
     "data": {
      "text/html": [
       "<div>\n",
       "<style scoped>\n",
       "    .dataframe tbody tr th:only-of-type {\n",
       "        vertical-align: middle;\n",
       "    }\n",
       "\n",
       "    .dataframe tbody tr th {\n",
       "        vertical-align: top;\n",
       "    }\n",
       "\n",
       "    .dataframe thead th {\n",
       "        text-align: right;\n",
       "    }\n",
       "</style>\n",
       "<table border=\"1\" class=\"dataframe\">\n",
       "  <thead>\n",
       "    <tr style=\"text-align: right;\">\n",
       "      <th></th>\n",
       "      <th>Age</th>\n",
       "      <th>Income</th>\n",
       "      <th>Is Student</th>\n",
       "      <th>Num Children</th>\n",
       "      <th>Temperature</th>\n",
       "      <th>Rating</th>\n",
       "    </tr>\n",
       "  </thead>\n",
       "  <tbody>\n",
       "    <tr>\n",
       "      <th>0</th>\n",
       "      <td>43.0</td>\n",
       "      <td>45893.41</td>\n",
       "      <td>True</td>\n",
       "      <td>0.0</td>\n",
       "      <td>38.2</td>\n",
       "      <td>2.6</td>\n",
       "    </tr>\n",
       "    <tr>\n",
       "      <th>1</th>\n",
       "      <td>56.0</td>\n",
       "      <td>69663.07</td>\n",
       "      <td>True</td>\n",
       "      <td>1.0</td>\n",
       "      <td>38.7</td>\n",
       "      <td>3.2</td>\n",
       "    </tr>\n",
       "    <tr>\n",
       "      <th>2</th>\n",
       "      <td>31.0</td>\n",
       "      <td>45124.06</td>\n",
       "      <td>False</td>\n",
       "      <td>5.0</td>\n",
       "      <td>36.9</td>\n",
       "      <td>3.9</td>\n",
       "    </tr>\n",
       "    <tr>\n",
       "      <th>3</th>\n",
       "      <td>37.0</td>\n",
       "      <td>76724.60</td>\n",
       "      <td>False</td>\n",
       "      <td>2.0</td>\n",
       "      <td>41.6</td>\n",
       "      <td>2.5</td>\n",
       "    </tr>\n",
       "    <tr>\n",
       "      <th>4</th>\n",
       "      <td>53.0</td>\n",
       "      <td>58343.03</td>\n",
       "      <td>False</td>\n",
       "      <td>1.0</td>\n",
       "      <td>36.5</td>\n",
       "      <td>3.3</td>\n",
       "    </tr>\n",
       "    <tr>\n",
       "      <th>...</th>\n",
       "      <td>...</td>\n",
       "      <td>...</td>\n",
       "      <td>...</td>\n",
       "      <td>...</td>\n",
       "      <td>...</td>\n",
       "      <td>...</td>\n",
       "    </tr>\n",
       "    <tr>\n",
       "      <th>96</th>\n",
       "      <td>48.0</td>\n",
       "      <td>90964.58</td>\n",
       "      <td>False</td>\n",
       "      <td>2.0</td>\n",
       "      <td>38.9</td>\n",
       "      <td>3.9</td>\n",
       "    </tr>\n",
       "    <tr>\n",
       "      <th>97</th>\n",
       "      <td>58.0</td>\n",
       "      <td>70679.33</td>\n",
       "      <td>True</td>\n",
       "      <td>4.0</td>\n",
       "      <td>41.3</td>\n",
       "      <td>4.8</td>\n",
       "    </tr>\n",
       "    <tr>\n",
       "      <th>98</th>\n",
       "      <td>50.0</td>\n",
       "      <td>97052.37</td>\n",
       "      <td>True</td>\n",
       "      <td>2.0</td>\n",
       "      <td>37.1</td>\n",
       "      <td>4.6</td>\n",
       "    </tr>\n",
       "    <tr>\n",
       "      <th>99</th>\n",
       "      <td>42.0</td>\n",
       "      <td>46673.04</td>\n",
       "      <td>False</td>\n",
       "      <td>5.0</td>\n",
       "      <td>38.8</td>\n",
       "      <td>10.9</td>\n",
       "    </tr>\n",
       "    <tr>\n",
       "      <th>101</th>\n",
       "      <td>61.0</td>\n",
       "      <td>83082.63</td>\n",
       "      <td>True</td>\n",
       "      <td>4.0</td>\n",
       "      <td>35.6</td>\n",
       "      <td>3.7</td>\n",
       "    </tr>\n",
       "  </tbody>\n",
       "</table>\n",
       "<p>98 rows × 6 columns</p>\n",
       "</div>"
      ],
      "text/plain": [
       "      Age    Income Is Student  Num Children  Temperature  Rating\n",
       "0    43.0  45893.41       True           0.0         38.2     2.6\n",
       "1    56.0  69663.07       True           1.0         38.7     3.2\n",
       "2    31.0  45124.06      False           5.0         36.9     3.9\n",
       "3    37.0  76724.60      False           2.0         41.6     2.5\n",
       "4    53.0  58343.03      False           1.0         36.5     3.3\n",
       "..    ...       ...        ...           ...          ...     ...\n",
       "96   48.0  90964.58      False           2.0         38.9     3.9\n",
       "97   58.0  70679.33       True           4.0         41.3     4.8\n",
       "98   50.0  97052.37       True           2.0         37.1     4.6\n",
       "99   42.0  46673.04      False           5.0         38.8    10.9\n",
       "101  61.0  83082.63       True           4.0         35.6     3.7\n",
       "\n",
       "[98 rows x 6 columns]"
      ]
     },
     "execution_count": 59,
     "metadata": {},
     "output_type": "execute_result"
    }
   ],
   "source": [
    "data"
   ]
  },
  {
   "cell_type": "code",
   "execution_count": 61,
   "id": "ee93bfbc",
   "metadata": {},
   "outputs": [],
   "source": [
    "data['Is Student'].replace({'True':1},inplace=True)"
   ]
  },
  {
   "cell_type": "code",
   "execution_count": 62,
   "id": "3237ce04",
   "metadata": {},
   "outputs": [],
   "source": [
    "data['Is Student'].replace({'False':0},inplace=True)"
   ]
  },
  {
   "cell_type": "code",
   "execution_count": 63,
   "id": "95db356a",
   "metadata": {},
   "outputs": [
    {
     "data": {
      "text/plain": [
       "array([1, 0, 'NO', 'Yes', 'false', 'true', 'YES'], dtype=object)"
      ]
     },
     "execution_count": 63,
     "metadata": {},
     "output_type": "execute_result"
    }
   ],
   "source": [
    "data['Is Student'].unique()"
   ]
  },
  {
   "cell_type": "code",
   "execution_count": 65,
   "id": "5aa41972",
   "metadata": {},
   "outputs": [],
   "source": [
    "data['Is Student'].replace({'Yes':1,'true':1,'YES':1},inplace=True)"
   ]
  },
  {
   "cell_type": "code",
   "execution_count": 66,
   "id": "07693aa3",
   "metadata": {},
   "outputs": [],
   "source": [
    "data['Is Student'].replace({'NO':0,'false':0},inplace=True)"
   ]
  },
  {
   "cell_type": "code",
   "execution_count": 67,
   "id": "59a3b9fd",
   "metadata": {},
   "outputs": [
    {
     "data": {
      "text/plain": [
       "array([1, 0], dtype=int64)"
      ]
     },
     "execution_count": 67,
     "metadata": {},
     "output_type": "execute_result"
    }
   ],
   "source": [
    "data['Is Student'].unique()"
   ]
  },
  {
   "cell_type": "code",
   "execution_count": 70,
   "id": "bc2a77fb",
   "metadata": {},
   "outputs": [
    {
     "data": {
      "text/plain": [
       "Age             3\n",
       "Income          3\n",
       "Is Student      3\n",
       "Num Children    3\n",
       "Temperature     3\n",
       "Rating          3\n",
       "dtype: int64"
      ]
     },
     "execution_count": 70,
     "metadata": {},
     "output_type": "execute_result"
    }
   ],
   "source": [
    "data[data['Age']>80].count()"
   ]
  },
  {
   "cell_type": "code",
   "execution_count": 71,
   "id": "4e242d5d",
   "metadata": {},
   "outputs": [
    {
     "data": {
      "text/html": [
       "<div>\n",
       "<style scoped>\n",
       "    .dataframe tbody tr th:only-of-type {\n",
       "        vertical-align: middle;\n",
       "    }\n",
       "\n",
       "    .dataframe tbody tr th {\n",
       "        vertical-align: top;\n",
       "    }\n",
       "\n",
       "    .dataframe thead th {\n",
       "        text-align: right;\n",
       "    }\n",
       "</style>\n",
       "<table border=\"1\" class=\"dataframe\">\n",
       "  <thead>\n",
       "    <tr style=\"text-align: right;\">\n",
       "      <th></th>\n",
       "      <th>Age</th>\n",
       "      <th>Income</th>\n",
       "      <th>Is Student</th>\n",
       "      <th>Num Children</th>\n",
       "      <th>Temperature</th>\n",
       "      <th>Rating</th>\n",
       "    </tr>\n",
       "  </thead>\n",
       "  <tbody>\n",
       "    <tr>\n",
       "      <th>7</th>\n",
       "      <td>511.0</td>\n",
       "      <td>59721.22</td>\n",
       "      <td>1</td>\n",
       "      <td>0.0</td>\n",
       "      <td>41.9</td>\n",
       "      <td>1.2</td>\n",
       "    </tr>\n",
       "    <tr>\n",
       "      <th>19</th>\n",
       "      <td>301.0</td>\n",
       "      <td>39598.07</td>\n",
       "      <td>1</td>\n",
       "      <td>3.0</td>\n",
       "      <td>40.0</td>\n",
       "      <td>3.3</td>\n",
       "    </tr>\n",
       "    <tr>\n",
       "      <th>47</th>\n",
       "      <td>438.0</td>\n",
       "      <td>87051.70</td>\n",
       "      <td>0</td>\n",
       "      <td>3.0</td>\n",
       "      <td>37.3</td>\n",
       "      <td>2.7</td>\n",
       "    </tr>\n",
       "  </tbody>\n",
       "</table>\n",
       "</div>"
      ],
      "text/plain": [
       "      Age    Income  Is Student  Num Children  Temperature  Rating\n",
       "7   511.0  59721.22           1           0.0         41.9     1.2\n",
       "19  301.0  39598.07           1           3.0         40.0     3.3\n",
       "47  438.0  87051.70           0           3.0         37.3     2.7"
      ]
     },
     "execution_count": 71,
     "metadata": {},
     "output_type": "execute_result"
    }
   ],
   "source": [
    "data[data['Age']>80]"
   ]
  },
  {
   "cell_type": "code",
   "execution_count": 72,
   "id": "2d9bdd75",
   "metadata": {},
   "outputs": [],
   "source": [
    "index_names = data[ (data['Age'] >80) ].index"
   ]
  },
  {
   "cell_type": "code",
   "execution_count": 73,
   "id": "3683e08a",
   "metadata": {},
   "outputs": [
    {
     "data": {
      "text/plain": [
       "Int64Index([7, 19, 47], dtype='int64')"
      ]
     },
     "execution_count": 73,
     "metadata": {},
     "output_type": "execute_result"
    }
   ],
   "source": [
    "index_names"
   ]
  },
  {
   "cell_type": "code",
   "execution_count": 74,
   "id": "cfa94ea3",
   "metadata": {},
   "outputs": [],
   "source": [
    "data.drop(index_names, inplace = True)"
   ]
  },
  {
   "cell_type": "code",
   "execution_count": 75,
   "id": "7ad60a25",
   "metadata": {},
   "outputs": [
    {
     "data": {
      "text/plain": [
       "Age             0\n",
       "Income          0\n",
       "Is Student      0\n",
       "Num Children    0\n",
       "Temperature     0\n",
       "Rating          0\n",
       "dtype: int64"
      ]
     },
     "execution_count": 75,
     "metadata": {},
     "output_type": "execute_result"
    }
   ],
   "source": [
    "data[data['Age']>80].count()"
   ]
  },
  {
   "cell_type": "code",
   "execution_count": 76,
   "id": "74a7e160",
   "metadata": {},
   "outputs": [
    {
     "data": {
      "text/plain": [
       "<AxesSubplot:xlabel='Age', ylabel='Count'>"
      ]
     },
     "execution_count": 76,
     "metadata": {},
     "output_type": "execute_result"
    },
    {
     "data": {
      "image/png": "[encoded data removed]",
      "text/plain": [
       "<Figure size 432x288 with 1 Axes>"
      ]
     },
     "metadata": {
      "needs_background": "light"
     },
     "output_type": "display_data"
    }
   ],
   "source": [
    "sns.histplot(data['Age'])"
   ]
  },
  {
   "cell_type": "code",
   "execution_count": 77,
   "id": "fa0a9ed1",
   "metadata": {},
   "outputs": [
    {
     "data": {
      "text/plain": [
       "<AxesSubplot:xlabel='Num Children', ylabel='Count'>"
      ]
     },
     "execution_count": 77,
     "metadata": {},
     "output_type": "execute_result"
    },
    {
     "data": {
      "image/png": "[encoded data removed]",
      "text/plain": [
       "<Figure size 432x288 with 1 Axes>"
      ]
     },
     "metadata": {
      "needs_background": "light"
     },
     "output_type": "display_data"
    }
   ],
   "source": [
    "sns.histplot(data['Num Children'])"
   ]
  },
  {
   "cell_type": "code",
   "execution_count": 79,
   "id": "d72630db",
   "metadata": {},
   "outputs": [],
   "source": [
    "index_names = data[ (data['Num Children'] >5) ].index"
   ]
  },
  {
   "cell_type": "code",
   "execution_count": 80,
   "id": "cf9d50ba",
   "metadata": {},
   "outputs": [],
   "source": [
    "data.drop(index_names, inplace = True)"
   ]
  },
  {
   "cell_type": "code",
   "execution_count": 81,
   "id": "7b796215",
   "metadata": {},
   "outputs": [
    {
     "data": {
      "text/plain": [
       "<AxesSubplot:xlabel='Num Children', ylabel='Count'>"
      ]
     },
     "execution_count": 81,
     "metadata": {},
     "output_type": "execute_result"
    },
    {
     "data": {
      "image/png": "[encoded data removed]",
      "text/plain": [
       "<Figure size 432x288 with 1 Axes>"
      ]
     },
     "metadata": {
      "needs_background": "light"
     },
     "output_type": "display_data"
    }
   ],
   "source": [
    "sns.histplot(data['Num Children'])"
   ]
  },
  {
   "cell_type": "code",
   "execution_count": null,
   "id": "c580d8ad",
   "metadata": {},
   "outputs": [],
   "source": []
  }
 ],
 "metadata": {
  "kernelspec": {
   "display_name": "Python 3 (ipykernel)",
   "language": "python",
   "name": "python3"
  },
  "language_info": {
   "codemirror_mode": {
    "name": "ipython",
    "version": 3
   },
   "file_extension": ".py",
   "mimetype": "text/x-python",
   "name": "python",
   "nbconvert_exporter": "python",
   "pygments_lexer": "ipython3",
   "version": "3.9.12"
  }
 },
 "nbformat": 4,
 "nbformat_minor": 5
}
