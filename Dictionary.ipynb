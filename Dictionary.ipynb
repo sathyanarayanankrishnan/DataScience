{
  "nbformat": 4,
  "nbformat_minor": 0,
  "metadata": {
    "colab": {
      "name": "Dictionary.ipynb",
      "provenance": [],
      "authorship_tag": "ABX9TyPy6qR767IZpFsvCi/zTzVv",
      "include_colab_link": true
    },
    "kernelspec": {
      "name": "python3",
      "display_name": "Python 3"
    },
    "language_info": {
      "name": "python"
    }
  },
  "cells": [
    {
      "cell_type": "markdown",
      "metadata": {
        "id": "view-in-github",
        "colab_type": "text"
      },
      "source": [
        "<a href=\"https://colab.research.google.com/github/sathyanarayanankrishnan/DataScience/blob/main/Dictionary.ipynb\" target=\"_parent\"><img src=\"https://colab.research.google.com/assets/colab-badge.svg\" alt=\"Open In Colab\"/></a>"
      ]
    },
    {
      "cell_type": "markdown",
      "source": [
        "## Ways to Create Dictionary\n",
        "\n",
        "Dictionaries are used to store data values in key:value pairs.\n",
        "\n",
        "A dictionary is a collection which is ordered*, changeable and do not allow duplicates."
      ],
      "metadata": {
        "id": "c4FNTWrCAsMP"
      }
    },
    {
      "cell_type": "code",
      "source": [
        "my_dict = {}\n",
        "print (type(my_dict))"
      ],
      "metadata": {
        "colab": {
          "base_uri": "https://localhost:8080/"
        },
        "id": "rPbHatqWUB6D",
        "outputId": "82e6618d-9fa0-4891-8832-110bf6869eda"
      },
      "execution_count": 1,
      "outputs": [
        {
          "output_type": "stream",
          "name": "stdout",
          "text": [
            "<class 'dict'>\n"
          ]
        }
      ]
    },
    {
      "cell_type": "markdown",
      "source": [
        "Dictonary can contain Multiple Data Types integer, string etc.,"
      ],
      "metadata": {
        "id": "i-Ow1v2AArds"
      }
    },
    {
      "cell_type": "code",
      "source": [
        "my_dict = {1:'a',2:'b'}\n",
        "print (my_dict)\n",
        "my_dict_1 = {1:1,2:'b'}\n",
        "print (my_dict_1)\n",
        "my_dict_1 = {1:1,'abc':'b'}\n",
        "print (my_dict_1)"
      ],
      "metadata": {
        "colab": {
          "base_uri": "https://localhost:8080/"
        },
        "id": "IWNPj72dA0Yn",
        "outputId": "4ce1c797-5319-4770-fc91-1176e74223e4"
      },
      "execution_count": 40,
      "outputs": [
        {
          "output_type": "stream",
          "name": "stdout",
          "text": [
            "{1: 'a', 2: 'b'}\n",
            "{1: 1, 2: 'b'}\n",
            "{1: 1, 'abc': 'b'}\n"
          ]
        }
      ]
    },
    {
      "cell_type": "code",
      "source": [
        "thisdict = {\n",
        "  \"brand\": \"Ford\",\n",
        "  \"model\": \"Mustang\",\n",
        "  \"year\": 1964\n",
        "}; \n",
        "print (thisdict)\n"
      ],
      "metadata": {
        "colab": {
          "base_uri": "https://localhost:8080/"
        },
        "id": "aoxum2qcBukM",
        "outputId": "eaf84e2e-fd66-4a38-d738-ce3fc6916e65"
      },
      "execution_count": 46,
      "outputs": [
        {
          "output_type": "stream",
          "name": "stdout",
          "text": [
            "{'brand': 'Ford', 'model': 'Mustang', 'year': 1964}\n"
          ]
        }
      ]
    },
    {
      "cell_type": "markdown",
      "source": [
        "## Yes Dictonary is Mutable"
      ],
      "metadata": {
        "id": "0G_kpTltCexj"
      }
    },
    {
      "cell_type": "markdown",
      "source": [
        "## Insert in Dictonary"
      ],
      "metadata": {
        "id": "MXRFEEkdCh0R"
      }
    },
    {
      "cell_type": "code",
      "source": [
        "thisdict[\"color\"] = \"red\"\n",
        "print(thisdict)\n"
      ],
      "metadata": {
        "colab": {
          "base_uri": "https://localhost:8080/"
        },
        "id": "tZ3Jmf6lClZ6",
        "outputId": "3c348823-6112-4b74-d22a-a7db1f7dac57"
      },
      "execution_count": 47,
      "outputs": [
        {
          "output_type": "stream",
          "name": "stdout",
          "text": [
            "{'brand': 'Ford', 'model': 'Mustang', 'year': 1964, 'color': 'red'}\n"
          ]
        }
      ]
    },
    {
      "cell_type": "markdown",
      "source": [
        "## Update in a Dictonary "
      ],
      "metadata": {
        "id": "XjXCUpicCs8B"
      }
    },
    {
      "cell_type": "code",
      "source": [
        "thisdict[\"brand\"] = \"Ford Motors USA\"\n",
        "print(thisdict)"
      ],
      "metadata": {
        "colab": {
          "base_uri": "https://localhost:8080/"
        },
        "id": "hn2tKFlDC0GQ",
        "outputId": "e35cd078-ad75-4b2f-8ad4-920380014212"
      },
      "execution_count": 48,
      "outputs": [
        {
          "output_type": "stream",
          "name": "stdout",
          "text": [
            "{'brand': 'Ford Motors USA', 'model': 'Mustang', 'year': 1964, 'color': 'red'}\n"
          ]
        }
      ]
    },
    {
      "cell_type": "markdown",
      "source": [
        ""
      ],
      "metadata": {
        "id": "77PVWAqPC6EQ"
      }
    },
    {
      "cell_type": "markdown",
      "source": [
        "## Delete a Dictonary"
      ],
      "metadata": {
        "id": "80HjMo2QG0o7"
      }
    },
    {
      "cell_type": "code",
      "source": [
        "# Delete a specific element\n",
        "try:\n",
        "  print('Before the execution value of thisdict = ',thisdict)\n",
        "  print(thisdict.pop('color')) \n",
        "  print(thisdict)\n",
        "except (TypeError, ZeroDivisionError,KeyError):\n",
        "   # Handle multiple exceptions\n",
        "   # TypeError, ZeroDivisionError and KeyError\n",
        "   print('Element you tried to remove doen\\'t available in the Dictonary (Key)')\n",
        "   pass\n",
        "print('Before the execution value of thisdict = ',thisdict)\n",
        "# Delete an random element\n",
        "print(thisdict.popitem())\n",
        "print(thisdict)\n",
        "print('Before the execution value of thisdict = ',thisdict)\n",
        "#Remove a specific element\n",
        "del thisdict['model']\n",
        "print(thisdict)\n",
        "\n",
        "# Delete all elements from the dictionary\n",
        "thisdict.clear()\n",
        "print(thisdict)\n",
        "\n",
        "# Finally, eliminate the dictionary object\n",
        "del thisdict\n",
        "#print(thisdict)\n"
      ],
      "metadata": {
        "colab": {
          "base_uri": "https://localhost:8080/"
        },
        "id": "Q8eU4OgVG345",
        "outputId": "3f73f234-9d33-4f66-99af-b97830d23dbd"
      },
      "execution_count": 49,
      "outputs": [
        {
          "output_type": "stream",
          "name": "stdout",
          "text": [
            "Before the execution value of thisdict =  {'brand': 'Ford Motors USA', 'model': 'Mustang', 'year': 1964, 'color': 'red'}\n",
            "red\n",
            "{'brand': 'Ford Motors USA', 'model': 'Mustang', 'year': 1964}\n",
            "Before the execution value of thisdict =  {'brand': 'Ford Motors USA', 'model': 'Mustang', 'year': 1964}\n",
            "('year', 1964)\n",
            "{'brand': 'Ford Motors USA', 'model': 'Mustang'}\n",
            "Before the execution value of thisdict =  {'brand': 'Ford Motors USA', 'model': 'Mustang'}\n",
            "{'brand': 'Ford Motors USA'}\n",
            "{}\n"
          ]
        }
      ]
    },
    {
      "cell_type": "markdown",
      "source": [
        "## Interation (Loops) in Dictionary"
      ],
      "metadata": {
        "id": "eubBtf0ePQ9k"
      }
    },
    {
      "cell_type": "code",
      "source": [
        "dict = {\"PM\":\"Narendra Damodardas Modi\", \"Age\":71, \"Country\":\"India\"}\n",
        "for x in dict:\n",
        " print(x);# Print keys\n",
        " print(dict[x]); # Print values"
      ],
      "metadata": {
        "colab": {
          "base_uri": "https://localhost:8080/"
        },
        "id": "vt-rcMmEPG-m",
        "outputId": "0da82d80-8c5d-4779-89af-e108a4f8bab5"
      },
      "execution_count": 51,
      "outputs": [
        {
          "output_type": "stream",
          "name": "stdout",
          "text": [
            "PM\n",
            "Narendra Damodardas Modi\n",
            "Age\n",
            "71\n",
            "Country\n",
            "India\n"
          ]
        }
      ]
    },
    {
      "cell_type": "markdown",
      "source": [
        "## Maps in Dictionary"
      ],
      "metadata": {
        "id": "i9vMuQmqPVhT"
      }
    },
    {
      "cell_type": "code",
      "source": [
        "aquarium_creatures = [\n",
        "\t{\"name\": \"sammy\", \"species\": \"shark\", \"tank number\": 11, \"type\": \"fish\"},\n",
        "\t{\"name\": \"ashley\", \"species\": \"crab\", \"tank number\": 25, \"type\": \"shellfish\"},\n",
        "\t{\"name\": \"jo\", \"species\": \"guppy\", \"tank number\": 18, \"type\": \"fish\"},\n",
        "\t{\"name\": \"jackie\", \"species\": \"lobster\", \"tank number\": 21, \"type\": \"shellfish\"},\n",
        "\t{\"name\": \"charlie\", \"species\": \"clownfish\", \"tank number\": 12, \"type\": \"fish\"},\n",
        "\t{\"name\": \"olly\", \"species\": \"green turtle\", \"tank number\": 34, \"type\": \"turtle\"}\n",
        "]\n",
        "print(type(aquarium_creatures))"
      ],
      "metadata": {
        "colab": {
          "base_uri": "https://localhost:8080/"
        },
        "id": "1uMkaZgcR9tq",
        "outputId": "3728dec3-e8a0-41f1-923e-a26b308e3cc3"
      },
      "execution_count": 98,
      "outputs": [
        {
          "output_type": "stream",
          "name": "stdout",
          "text": [
            "<class 'list'>\n"
          ]
        }
      ]
    },
    {
      "cell_type": "code",
      "source": [
        "def assign_to_tank(aquarium_creatures, new_tank_number):\n",
        "\tdef apply(x):\n",
        "\t\tx[\"tank number\"] = new_tank_number\n",
        "\t\treturn x\n",
        "\treturn map(apply, aquarium_creatures)\n",
        "assigned_tanks = assign_to_tank(aquarium_creatures, 42)\n",
        "print(list(assigned_tanks))"
      ],
      "metadata": {
        "colab": {
          "base_uri": "https://localhost:8080/"
        },
        "id": "we4YENKXX2oD",
        "outputId": "90e1dfba-7e30-4ff0-c55c-24d9bbd2b5d2"
      },
      "execution_count": 100,
      "outputs": [
        {
          "output_type": "stream",
          "name": "stdout",
          "text": [
            "[{'name': 'sammy', 'species': 'shark', 'tank number': 42, 'type': 'fish'}, {'name': 'ashley', 'species': 'crab', 'tank number': 42, 'type': 'shellfish'}, {'name': 'jo', 'species': 'guppy', 'tank number': 42, 'type': 'fish'}, {'name': 'jackie', 'species': 'lobster', 'tank number': 42, 'type': 'shellfish'}, {'name': 'charlie', 'species': 'clownfish', 'tank number': 42, 'type': 'fish'}, {'name': 'olly', 'species': 'green turtle', 'tank number': 42, 'type': 'turtle'}]\n"
          ]
        }
      ]
    },
    {
      "cell_type": "markdown",
      "source": [
        "## Dictionary with Lambda Functions"
      ],
      "metadata": {
        "id": "6eyLYN41MgWj"
      }
    },
    {
      "cell_type": "code",
      "source": [
        "L = [('Sam', 35),\n",
        "    ('Max', 25),\n",
        "    ('Bob', 30)]\n",
        "print(L)\n",
        "x = sorted(L, key=lambda student: student[1])\n",
        "print(x)"
      ],
      "metadata": {
        "colab": {
          "base_uri": "https://localhost:8080/"
        },
        "id": "uLnuzXi7MlJR",
        "outputId": "a8feadc1-1b2e-4e08-ff7a-b539108fa65f"
      },
      "execution_count": 2,
      "outputs": [
        {
          "output_type": "stream",
          "name": "stdout",
          "text": [
            "[('Sam', 35), ('Max', 25), ('Bob', 30)]\n",
            "[('Max', 25), ('Bob', 30), ('Sam', 35)]\n"
          ]
        }
      ]
    },
    {
      "cell_type": "markdown",
      "source": [
        "## Dictonary Concatenation"
      ],
      "metadata": {
        "id": "cwPA9FFBQPvf"
      }
    },
    {
      "cell_type": "code",
      "source": [
        "Dict_A = {1:1,2:4,3:9}\n",
        "Dict_B = {4:16, 5:25}\n",
        "Dict_C = {6:36, 7:49}\n",
        "dall = {}\n",
        "for d in [Dict_A, Dict_B, Dict_C]:\n",
        "  dall.update(d)\n",
        "\n",
        "print (dall)"
      ],
      "metadata": {
        "colab": {
          "base_uri": "https://localhost:8080/"
        },
        "id": "FV6hdhcKQSK1",
        "outputId": "7aefaa10-c093-48cf-e741-1567b74a3411"
      },
      "execution_count": 7,
      "outputs": [
        {
          "output_type": "stream",
          "name": "stdout",
          "text": [
            "{1: 1, 2: 4, 3: 9, 4: 16, 5: 25, 6: 36, 7: 49}\n"
          ]
        }
      ]
    },
    {
      "cell_type": "markdown",
      "source": [
        "## Dictonay with Zip Function"
      ],
      "metadata": {
        "id": "AaodQHW2RbFw"
      }
    },
    {
      "cell_type": "code",
      "source": [
        "keys = ['a', 'b', 'c']\n",
        "values = [1, 2, 3]\n",
        "dictionary = dict(zip(keys, values))\n",
        "print(dictionary) # {'a': 1, 'b': 2, 'c': 3}"
      ],
      "metadata": {
        "colab": {
          "base_uri": "https://localhost:8080/"
        },
        "id": "qnGa13fkRefY",
        "outputId": "1c19dbfd-f99c-4b5f-975a-91ea961e7042"
      },
      "execution_count": 8,
      "outputs": [
        {
          "output_type": "stream",
          "name": "stdout",
          "text": [
            "{'a': 1, 'b': 2, 'c': 3}\n"
          ]
        }
      ]
    },
    {
      "cell_type": "markdown",
      "source": [
        "# Dictonary Conver to other Data Types"
      ],
      "metadata": {
        "id": "dutqT8RoSKc9"
      }
    },
    {
      "cell_type": "markdown",
      "source": [
        "## Dictionary to List"
      ],
      "metadata": {
        "id": "HLJrESZGVgLO"
      }
    },
    {
      "cell_type": "code",
      "source": [
        "print ('Current Dictionary ', dall)\n",
        "list_keys = list( dall.keys())\n",
        "list_values =list ( dall.values())\n",
        "print ('list_keys ',  list_keys ,' Data type ::: ' , type (list_keys))\n",
        "print ('list_values ',  list_values ,' Data type ::: ' , type (list_values))"
      ],
      "metadata": {
        "colab": {
          "base_uri": "https://localhost:8080/"
        },
        "id": "tVjsVZhASONu",
        "outputId": "b79cc136-1816-44be-ae5f-cae0a2d61531"
      },
      "execution_count": 29,
      "outputs": [
        {
          "output_type": "stream",
          "name": "stdout",
          "text": [
            "Current Dictionary  {1: 1, 2: 4, 3: 9, 4: 16, 5: 25, 6: 36, 7: 49}\n",
            "list_keys  [1, 2, 3, 4, 5, 6, 7]  Data type :::  <class 'list'>\n",
            "list_values  [1, 4, 9, 16, 25, 36, 49]  Data type :::  <class 'list'>\n"
          ]
        }
      ]
    },
    {
      "cell_type": "markdown",
      "source": [
        "##Dictionary to Tuple"
      ],
      "metadata": {
        "id": "q6LE2oVZVsBd"
      }
    },
    {
      "cell_type": "code",
      "source": [
        "print ('Current Dictionary ', dall)\n",
        "tuple_1 = tuple( dall.keys())\n",
        "tuple_2 =tuple ( dall.values())\n",
        "print ('tuple_1 ',  tuple_1 ,' Data type ::: ' , type (tuple_1))\n",
        "print ('tuple_2 ',  tuple_2 ,' Data type ::: ' , type (tuple_2))"
      ],
      "metadata": {
        "colab": {
          "base_uri": "https://localhost:8080/"
        },
        "id": "PFPirYZgVxAA",
        "outputId": "67d489d5-b18f-4a82-a38f-1df69d3e031a"
      },
      "execution_count": 33,
      "outputs": [
        {
          "output_type": "stream",
          "name": "stdout",
          "text": [
            "Current Dictionary  {1: 1, 2: 4, 3: 9, 4: 16, 5: 25, 6: 36, 7: 49}\n",
            "tuple_1  (1, 2, 3, 4, 5, 6, 7)  Data type :::  <class 'tuple'>\n",
            "tuple_2  (1, 4, 9, 16, 25, 36, 49)  Data type :::  <class 'tuple'>\n"
          ]
        }
      ]
    },
    {
      "cell_type": "markdown",
      "source": [
        "## Dictionary to Set "
      ],
      "metadata": {
        "id": "pOYBLzCRV19n"
      }
    },
    {
      "cell_type": "code",
      "source": [
        "print ('Current Dictionary ', dall)\n",
        "set_1 = set( dall.keys())\n",
        "set_2 = set ( dall.values())\n",
        "print ('set_1 ',  set_1 ,' Data type ::: ' , type (set_1))\n",
        "print ('set_2 ',  set_2 ,' Data type ::: ' , type (set_2))"
      ],
      "metadata": {
        "colab": {
          "base_uri": "https://localhost:8080/"
        },
        "id": "Z_cCPXgyV4_N",
        "outputId": "853168db-6019-452e-f783-4ba9ed114205"
      },
      "execution_count": 34,
      "outputs": [
        {
          "output_type": "stream",
          "name": "stdout",
          "text": [
            "Current Dictionary  {1: 1, 2: 4, 3: 9, 4: 16, 5: 25, 6: 36, 7: 49}\n",
            "set_1  {1, 2, 3, 4, 5, 6, 7}  Data type :::  <class 'set'>\n",
            "set_2  {1, 4, 36, 9, 16, 49, 25}  Data type :::  <class 'set'>\n"
          ]
        }
      ]
    },
    {
      "cell_type": "markdown",
      "source": [
        "## Dictionary to String"
      ],
      "metadata": {
        "id": "SUoa0nusWF3R"
      }
    },
    {
      "cell_type": "code",
      "source": [
        "print ('Current Dictionary ', dall)\n",
        "str_1 = str( dall.keys())\n",
        "str_2 = str ( dall.values())\n",
        "print ('str_1 ',  str_1 ,' Data type ::: ' , type (str_1))\n",
        "print ('str_2 ',  str_2 ,' Data type ::: ' , type (str_2))"
      ],
      "metadata": {
        "colab": {
          "base_uri": "https://localhost:8080/"
        },
        "id": "G6JNR9EGWI_u",
        "outputId": "ba23167a-4e67-46f1-b279-095485e7b680"
      },
      "execution_count": 36,
      "outputs": [
        {
          "output_type": "stream",
          "name": "stdout",
          "text": [
            "Current Dictionary  {1: 1, 2: 4, 3: 9, 4: 16, 5: 25, 6: 36, 7: 49}\n",
            "str_1  dict_keys([1, 2, 3, 4, 5, 6, 7])  Data type :::  <class 'str'>\n",
            "str_2  dict_values([1, 4, 9, 16, 25, 36, 49])  Data type :::  <class 'str'>\n"
          ]
        }
      ]
    },
    {
      "cell_type": "markdown",
      "source": [
        "## Happy Learning ! "
      ],
      "metadata": {
        "id": "E6IyDinoYnLk"
      }
    }
  ]
}