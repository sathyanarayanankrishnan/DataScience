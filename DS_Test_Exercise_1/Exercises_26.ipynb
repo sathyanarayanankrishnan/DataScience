{
  "cells": [
    {
      "cell_type": "markdown",
      "metadata": {
        "id": "view-in-github",
        "colab_type": "text"
      },
      "source": [
        "<a href=\"https://colab.research.google.com/github/sathyanarayanankrishnan/DataScience/blob/main/DS_Test_Exercise_1/Exercises_26.ipynb\" target=\"_parent\"><img src=\"https://colab.research.google.com/assets/colab-badge.svg\" alt=\"Open In Colab\"/></a>"
      ]
    },
    {
      "cell_type": "markdown",
      "metadata": {
        "id": "65drUcq8svTk"
      },
      "source": [
        "# Apple Stock"
      ]
    },
    {
      "cell_type": "markdown",
      "metadata": {
        "id": "zNyeetGWsvTp"
      },
      "source": [
        "### Introduction:\n",
        "\n",
        "We are going to use Apple's stock price.\n",
        "\n",
        "\n",
        "### Step 1. Import the necessary libraries"
      ]
    },
    {
      "cell_type": "code",
      "execution_count": 2,
      "metadata": {
        "id": "sOyayFEHsvTr"
      },
      "outputs": [],
      "source": [
        "import numpy as np\n",
        "import pandas as pd"
      ]
    },
    {
      "cell_type": "markdown",
      "metadata": {
        "id": "cYURkRVWsvTs"
      },
      "source": [
        "### Step 2. Import the dataset from this [address](https://raw.githubusercontent.com/guipsamora/pandas_exercises/master/09_Time_Series/Apple_Stock/appl_1980_2014.csv)"
      ]
    },
    {
      "cell_type": "code",
      "execution_count": 40,
      "metadata": {
        "collapsed": true,
        "id": "OhFvGm4ksvTt"
      },
      "outputs": [],
      "source": [
        "df_stock= pd.read_csv('https://raw.githubusercontent.com/guipsamora/pandas_exercises/master/09_Time_Series/Apple_Stock/appl_1980_2014.csv')\n"
      ]
    },
    {
      "cell_type": "markdown",
      "metadata": {
        "id": "ojk78uzcsvTt"
      },
      "source": [
        "### Step 3. Assign it to a variable apple"
      ]
    },
    {
      "cell_type": "code",
      "execution_count": 41,
      "metadata": {
        "id": "KNhUqpMlsvTu"
      },
      "outputs": [],
      "source": [
        "apple=df_stock"
      ]
    },
    {
      "cell_type": "markdown",
      "metadata": {
        "id": "4-Hfdjd-svTu"
      },
      "source": [
        "### Step 4.  Check out the type of the columns"
      ]
    },
    {
      "cell_type": "code",
      "execution_count": 42,
      "metadata": {
        "id": "AAr2qga5svTv",
        "outputId": "90844a00-91b6-471a-dac8-723cf49044a2",
        "colab": {
          "base_uri": "https://localhost:8080/"
        }
      },
      "outputs": [
        {
          "output_type": "execute_result",
          "data": {
            "text/plain": [
              "Date          object\n",
              "Open         float64\n",
              "High         float64\n",
              "Low          float64\n",
              "Close        float64\n",
              "Volume         int64\n",
              "Adj Close    float64\n",
              "dtype: object"
            ]
          },
          "metadata": {},
          "execution_count": 42
        }
      ],
      "source": [
        "apple.dtypes"
      ]
    },
    {
      "cell_type": "markdown",
      "metadata": {
        "id": "U8pLCSE1svTv"
      },
      "source": [
        "### Step 5. Transform the Date column as a datetime type"
      ]
    },
    {
      "cell_type": "code",
      "execution_count": 43,
      "metadata": {
        "id": "1DwqcWKWsvTv",
        "outputId": "9a60d3f1-1d26-4c24-968d-e344bc67b43b",
        "colab": {
          "base_uri": "https://localhost:8080/"
        }
      },
      "outputs": [
        {
          "output_type": "execute_result",
          "data": {
            "text/plain": [
              "Date         datetime64[ns]\n",
              "Open                float64\n",
              "High                float64\n",
              "Low                 float64\n",
              "Close               float64\n",
              "Volume                int64\n",
              "Adj Close           float64\n",
              "dtype: object"
            ]
          },
          "metadata": {},
          "execution_count": 43
        }
      ],
      "source": [
        "apple['Date'] = pd.to_datetime(apple['Date'])\n",
        "apple.dtypes"
      ]
    },
    {
      "cell_type": "markdown",
      "metadata": {
        "id": "2gyNv-nasvTw"
      },
      "source": [
        "### Step 6.  Set the date as the index"
      ]
    },
    {
      "cell_type": "code",
      "execution_count": 44,
      "metadata": {
        "id": "B9c-_9RKsvTw"
      },
      "outputs": [],
      "source": [
        "apple.set_index('Date', inplace=True)\n"
      ]
    },
    {
      "cell_type": "markdown",
      "metadata": {
        "id": "uiyuFq-QsvTw"
      },
      "source": [
        "### Step 7.  Is there any duplicate dates?"
      ]
    },
    {
      "cell_type": "code",
      "execution_count": 26,
      "metadata": {
        "id": "oOM0BPnwsvTx",
        "outputId": "5e95e399-cd19-487b-dd65-221ce9ce86d5",
        "colab": {
          "base_uri": "https://localhost:8080/"
        }
      },
      "outputs": [
        {
          "output_type": "execute_result",
          "data": {
            "text/plain": [
              "False"
            ]
          },
          "metadata": {},
          "execution_count": 26
        }
      ],
      "source": [
        "apple.index.has_duplicates"
      ]
    },
    {
      "cell_type": "markdown",
      "metadata": {
        "id": "AsSQkuyrsvTx"
      },
      "source": [
        "### Step 8.  Ops...it seems the index is from the most recent date. Make the first entry the oldest date."
      ]
    },
    {
      "cell_type": "code",
      "execution_count": 45,
      "metadata": {
        "id": "73AWhnz_svTx",
        "outputId": "cbcac73c-0eab-45c4-b916-73864eecb9c8",
        "colab": {
          "base_uri": "https://localhost:8080/"
        }
      },
      "outputs": [
        {
          "output_type": "stream",
          "name": "stdout",
          "text": [
            "             Open   High    Low  Close     Volume  Adj Close\n",
            "Date                                                        \n",
            "1980-12-12  28.75  28.87  28.75  28.75  117258400       0.45\n",
            "1980-12-15  27.38  27.38  27.25  27.25   43971200       0.42\n",
            "1980-12-16  25.37  25.37  25.25  25.25   26432000       0.39\n",
            "1980-12-17  25.87  26.00  25.87  25.87   21610400       0.40\n",
            "1980-12-18  26.63  26.75  26.63  26.63   18362400       0.41\n",
            "...           ...    ...    ...    ...        ...        ...\n",
            "2014-07-01  93.52  94.07  93.13  93.52   38170200      93.52\n",
            "2014-07-02  93.87  94.06  93.09  93.48   28420900      93.48\n",
            "2014-07-03  93.67  94.10  93.20  94.03   22891800      94.03\n",
            "2014-07-07  94.14  95.99  94.10  95.97   56305400      95.97\n",
            "2014-07-08  96.27  96.80  93.92  95.35   65130000      95.35\n",
            "\n",
            "[8465 rows x 6 columns]\n"
          ]
        }
      ],
      "source": [
        "apple=apple.sort_index(ascending=True)\n",
        "print(apple)"
      ]
    },
    {
      "cell_type": "markdown",
      "metadata": {
        "id": "94CeoMrhsvTy"
      },
      "source": [
        "### Step 9. Get the last business day of each month"
      ]
    },
    {
      "cell_type": "code",
      "execution_count": 57,
      "metadata": {
        "id": "p-n4MCS-svTy"
      },
      "outputs": [],
      "source": [
        "a= apple.filter(apple.index.month==1)"
      ]
    },
    {
      "cell_type": "markdown",
      "metadata": {
        "id": "M3xwo2JJsvTy"
      },
      "source": [
        "### Step 10.  What is the difference in days between the first day and the oldest"
      ]
    },
    {
      "cell_type": "code",
      "execution_count": 50,
      "metadata": {
        "id": "-yijt2TesvTy"
      },
      "outputs": [],
      "source": [
        "diff = apple.index.max() - apple.index.min() "
      ]
    },
    {
      "cell_type": "markdown",
      "metadata": {
        "id": "8qJZdeqjsvTy"
      },
      "source": [
        "### Step 11.  How many months in the data we have?"
      ]
    },
    {
      "cell_type": "code",
      "execution_count": 58,
      "metadata": {
        "id": "nLE1AsuasvTy",
        "outputId": "c499e3fe-27ab-469a-8721-92cc0db2f6bb",
        "colab": {
          "base_uri": "https://localhost:8080/"
        }
      },
      "outputs": [
        {
          "output_type": "execute_result",
          "data": {
            "text/plain": [
              "8465"
            ]
          },
          "metadata": {},
          "execution_count": 58
        }
      ],
      "source": [
        "apple[\"month\"] = pd.DatetimeIndex(apple.index).month\n",
        "apple[\"month\"].count()"
      ]
    },
    {
      "cell_type": "markdown",
      "metadata": {
        "id": "x-iII59rsvTz"
      },
      "source": [
        "### Step 12. Plot the 'Adj Close' value. Set the size of the figure to 13.5 x 9 inches"
      ]
    },
    {
      "cell_type": "code",
      "execution_count": 62,
      "metadata": {
        "id": "AE7aUKIFsvTz",
        "outputId": "f289850f-9009-4731-8144-51ef0335a1ae",
        "colab": {
          "base_uri": "https://localhost:8080/",
          "height": 537
        }
      },
      "outputs": [
        {
          "output_type": "display_data",
          "data": {
            "text/plain": [
              "<Figure size 972x648 with 1 Axes>"
            ],
            "image/png": "[encoded data removed]"
          },
          "metadata": {
            "needs_background": "light"
          }
        }
      ],
      "source": [
        "import matplotlib.pyplot as plt\n",
        "plt.figure(figsize=(13.5, 9))\n",
        "plt.hist(apple[\"Adj Close\"])\n",
        "plt.show()"
      ]
    },
    {
      "cell_type": "markdown",
      "metadata": {
        "id": "rf4vJlmBsvTz"
      },
      "source": [
        "### BONUS: Create your own question and answer it."
      ]
    },
    {
      "cell_type": "code",
      "execution_count": 61,
      "metadata": {
        "collapsed": true,
        "id": "ES-FT5dPsvTz",
        "outputId": "88ea4d81-8082-41e4-a661-be74785df634",
        "colab": {
          "base_uri": "https://localhost:8080/",
          "height": 300
        }
      },
      "outputs": [
        {
          "output_type": "execute_result",
          "data": {
            "text/plain": [
              "              Open         High          Low        Close        Volume  \\\n",
              "count  8465.000000  8465.000000  8465.000000  8465.000000  8.465000e+03   \n",
              "mean     98.593926    99.848683    97.226790    98.549199  9.391214e+07   \n",
              "std     141.965350   143.155674   140.548326   141.877244  8.993202e+07   \n",
              "min      11.120000    11.120000    11.000000    11.000000  2.504000e+05   \n",
              "25%      25.750000    26.000000    25.120000    25.630000  3.704960e+07   \n",
              "50%      40.750000    41.500000    40.000000    40.750000  6.636000e+07   \n",
              "75%      79.500000    81.000000    78.740000    80.000000  1.177701e+08   \n",
              "max     702.410000   705.070000   699.570000   702.100000  1.855410e+09   \n",
              "\n",
              "         Adj Close        month  \n",
              "count  8465.000000  8465.000000  \n",
              "mean     11.095014     6.500177  \n",
              "std      21.133016     3.436025  \n",
              "min       0.170000     1.000000  \n",
              "25%       0.900000     4.000000  \n",
              "50%       1.410000     6.000000  \n",
              "75%       8.660000     9.000000  \n",
              "max      96.280000    12.000000  "
            ],
            "text/html": [
              "\n",
              "  <div id=\"df-1d3ed2f7-380d-4157-a73b-1b84b844436b\">\n",
              "    <div class=\"colab-df-container\">\n",
              "      <div>\n",
              "<style scoped>\n",
              "    .dataframe tbody tr th:only-of-type {\n",
              "        vertical-align: middle;\n",
              "    }\n",
              "\n",
              "    .dataframe tbody tr th {\n",
              "        vertical-align: top;\n",
              "    }\n",
              "\n",
              "    .dataframe thead th {\n",
              "        text-align: right;\n",
              "    }\n",
              "</style>\n",
              "<table border=\"1\" class=\"dataframe\">\n",
              "  <thead>\n",
              "    <tr style=\"text-align: right;\">\n",
              "      <th></th>\n",
              "      <th>Open</th>\n",
              "      <th>High</th>\n",
              "      <th>Low</th>\n",
              "      <th>Close</th>\n",
              "      <th>Volume</th>\n",
              "      <th>Adj Close</th>\n",
              "      <th>month</th>\n",
              "    </tr>\n",
              "  </thead>\n",
              "  <tbody>\n",
              "    <tr>\n",
              "      <th>count</th>\n",
              "      <td>8465.000000</td>\n",
              "      <td>8465.000000</td>\n",
              "      <td>8465.000000</td>\n",
              "      <td>8465.000000</td>\n",
              "      <td>8.465000e+03</td>\n",
              "      <td>8465.000000</td>\n",
              "      <td>8465.000000</td>\n",
              "    </tr>\n",
              "    <tr>\n",
              "      <th>mean</th>\n",
              "      <td>98.593926</td>\n",
              "      <td>99.848683</td>\n",
              "      <td>97.226790</td>\n",
              "      <td>98.549199</td>\n",
              "      <td>9.391214e+07</td>\n",
              "      <td>11.095014</td>\n",
              "      <td>6.500177</td>\n",
              "    </tr>\n",
              "    <tr>\n",
              "      <th>std</th>\n",
              "      <td>141.965350</td>\n",
              "      <td>143.155674</td>\n",
              "      <td>140.548326</td>\n",
              "      <td>141.877244</td>\n",
              "      <td>8.993202e+07</td>\n",
              "      <td>21.133016</td>\n",
              "      <td>3.436025</td>\n",
              "    </tr>\n",
              "    <tr>\n",
              "      <th>min</th>\n",
              "      <td>11.120000</td>\n",
              "      <td>11.120000</td>\n",
              "      <td>11.000000</td>\n",
              "      <td>11.000000</td>\n",
              "      <td>2.504000e+05</td>\n",
              "      <td>0.170000</td>\n",
              "      <td>1.000000</td>\n",
              "    </tr>\n",
              "    <tr>\n",
              "      <th>25%</th>\n",
              "      <td>25.750000</td>\n",
              "      <td>26.000000</td>\n",
              "      <td>25.120000</td>\n",
              "      <td>25.630000</td>\n",
              "      <td>3.704960e+07</td>\n",
              "      <td>0.900000</td>\n",
              "      <td>4.000000</td>\n",
              "    </tr>\n",
              "    <tr>\n",
              "      <th>50%</th>\n",
              "      <td>40.750000</td>\n",
              "      <td>41.500000</td>\n",
              "      <td>40.000000</td>\n",
              "      <td>40.750000</td>\n",
              "      <td>6.636000e+07</td>\n",
              "      <td>1.410000</td>\n",
              "      <td>6.000000</td>\n",
              "    </tr>\n",
              "    <tr>\n",
              "      <th>75%</th>\n",
              "      <td>79.500000</td>\n",
              "      <td>81.000000</td>\n",
              "      <td>78.740000</td>\n",
              "      <td>80.000000</td>\n",
              "      <td>1.177701e+08</td>\n",
              "      <td>8.660000</td>\n",
              "      <td>9.000000</td>\n",
              "    </tr>\n",
              "    <tr>\n",
              "      <th>max</th>\n",
              "      <td>702.410000</td>\n",
              "      <td>705.070000</td>\n",
              "      <td>699.570000</td>\n",
              "      <td>702.100000</td>\n",
              "      <td>1.855410e+09</td>\n",
              "      <td>96.280000</td>\n",
              "      <td>12.000000</td>\n",
              "    </tr>\n",
              "  </tbody>\n",
              "</table>\n",
              "</div>\n",
              "      <button class=\"colab-df-convert\" onclick=\"convertToInteractive('df-1d3ed2f7-380d-4157-a73b-1b84b844436b')\"\n",
              "              title=\"Convert this dataframe to an interactive table.\"\n",
              "              style=\"display:none;\">\n",
              "        \n",
              "  <svg xmlns=\"http://www.w3.org/2000/svg\" height=\"24px\"viewBox=\"0 0 24 24\"\n",
              "       width=\"24px\">\n",
              "    <path d=\"M0 0h24v24H0V0z\" fill=\"none\"/>\n",
              "    <path d=\"M18.56 5.44l.94 2.06.94-2.06 2.06-.94-2.06-.94-.94-2.06-.94 2.06-2.06.94zm-11 1L8.5 8.5l.94-2.06 2.06-.94-2.06-.94L8.5 2.5l-.94 2.06-2.06.94zm10 10l.94 2.06.94-2.06 2.06-.94-2.06-.94-.94-2.06-.94 2.06-2.06.94z\"/><path d=\"M17.41 7.96l-1.37-1.37c-.4-.4-.92-.59-1.43-.59-.52 0-1.04.2-1.43.59L10.3 9.45l-7.72 7.72c-.78.78-.78 2.05 0 2.83L4 21.41c.39.39.9.59 1.41.59.51 0 1.02-.2 1.41-.59l7.78-7.78 2.81-2.81c.8-.78.8-2.07 0-2.86zM5.41 20L4 18.59l7.72-7.72 1.47 1.35L5.41 20z\"/>\n",
              "  </svg>\n",
              "      </button>\n",
              "      \n",
              "  <style>\n",
              "    .colab-df-container {\n",
              "      display:flex;\n",
              "      flex-wrap:wrap;\n",
              "      gap: 12px;\n",
              "    }\n",
              "\n",
              "    .colab-df-convert {\n",
              "      background-color: #E8F0FE;\n",
              "      border: none;\n",
              "      border-radius: 50%;\n",
              "      cursor: pointer;\n",
              "      display: none;\n",
              "      fill: #1967D2;\n",
              "      height: 32px;\n",
              "      padding: 0 0 0 0;\n",
              "      width: 32px;\n",
              "    }\n",
              "\n",
              "    .colab-df-convert:hover {\n",
              "      background-color: #E2EBFA;\n",
              "      box-shadow: 0px 1px 2px rgba(60, 64, 67, 0.3), 0px 1px 3px 1px rgba(60, 64, 67, 0.15);\n",
              "      fill: #174EA6;\n",
              "    }\n",
              "\n",
              "    [theme=dark] .colab-df-convert {\n",
              "      background-color: #3B4455;\n",
              "      fill: #D2E3FC;\n",
              "    }\n",
              "\n",
              "    [theme=dark] .colab-df-convert:hover {\n",
              "      background-color: #434B5C;\n",
              "      box-shadow: 0px 1px 3px 1px rgba(0, 0, 0, 0.15);\n",
              "      filter: drop-shadow(0px 1px 2px rgba(0, 0, 0, 0.3));\n",
              "      fill: #FFFFFF;\n",
              "    }\n",
              "  </style>\n",
              "\n",
              "      <script>\n",
              "        const buttonEl =\n",
              "          document.querySelector('#df-1d3ed2f7-380d-4157-a73b-1b84b844436b button.colab-df-convert');\n",
              "        buttonEl.style.display =\n",
              "          google.colab.kernel.accessAllowed ? 'block' : 'none';\n",
              "\n",
              "        async function convertToInteractive(key) {\n",
              "          const element = document.querySelector('#df-1d3ed2f7-380d-4157-a73b-1b84b844436b');\n",
              "          const dataTable =\n",
              "            await google.colab.kernel.invokeFunction('convertToInteractive',\n",
              "                                                     [key], {});\n",
              "          if (!dataTable) return;\n",
              "\n",
              "          const docLinkHtml = 'Like what you see? Visit the ' +\n",
              "            '<a target=\"_blank\" href=https://colab.research.google.com/notebooks/data_table.ipynb>data table notebook</a>'\n",
              "            + ' to learn more about interactive tables.';\n",
              "          element.innerHTML = '';\n",
              "          dataTable['output_type'] = 'display_data';\n",
              "          await google.colab.output.renderOutput(dataTable, element);\n",
              "          const docLink = document.createElement('div');\n",
              "          docLink.innerHTML = docLinkHtml;\n",
              "          element.appendChild(docLink);\n",
              "        }\n",
              "      </script>\n",
              "    </div>\n",
              "  </div>\n",
              "  "
            ]
          },
          "metadata": {},
          "execution_count": 61
        }
      ],
      "source": [
        "#Describe the data frame \n",
        "apple.describe(include='all')"
      ]
    }
  ],
  "metadata": {
    "anaconda-cloud": {},
    "kernelspec": {
      "display_name": "Python [default]",
      "language": "python",
      "name": "python2"
    },
    "language_info": {
      "codemirror_mode": {
        "name": "ipython",
        "version": 2
      },
      "file_extension": ".py",
      "mimetype": "text/x-python",
      "name": "python",
      "nbconvert_exporter": "python",
      "pygments_lexer": "ipython2",
      "version": "2.7.12"
    },
    "colab": {
      "provenance": [],
      "include_colab_link": true
    }
  },
  "nbformat": 4,
  "nbformat_minor": 0
}